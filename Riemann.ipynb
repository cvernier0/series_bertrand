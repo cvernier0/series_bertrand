{
 "cells": [
  {
   "cell_type": "code",
   "execution_count": 13,
   "metadata": {},
   "outputs": [],
   "source": [
    "from IPython.display import HTML\n",
    "from ipywidgets import interact\n",
    "%matplotlib inline\n",
    "\n",
    "import ipywidgets as widgets\n",
    "from IPython.display import display\n",
    "import numpy as np\n",
    "import matplotlib.pyplot as plt\n",
    "from math import pi"
   ]
  },
  {
   "cell_type": "code",
   "execution_count": 14,
   "metadata": {},
   "outputs": [
    {
     "data": {
      "text/html": [
       "<script>\n",
       "code_show=true; \n",
       "function code_toggle() {\n",
       " if (code_show){\n",
       " $('div.input').hide();\n",
       " } else {\n",
       " $('div.input').show();\n",
       " }\n",
       " code_show = !code_show\n",
       "} \n",
       "$( document ).ready(code_toggle);\n",
       "</script>\n",
       "Le code de ce notebook est caché pour faciliter la lecture. \n",
       "Pour afficher le code, cliquez <a href=\"javascript:code_toggle()\">ici</a>."
      ],
      "text/plain": [
       "<IPython.core.display.HTML object>"
      ]
     },
     "execution_count": 14,
     "metadata": {},
     "output_type": "execute_result"
    }
   ],
   "source": [
    "HTML('''<script>\n",
    "code_show=true; \n",
    "function code_toggle() {\n",
    " if (code_show){\n",
    " $('div.input').hide();\n",
    " } else {\n",
    " $('div.input').show();\n",
    " }\n",
    " code_show = !code_show\n",
    "} \n",
    "$( document ).ready(code_toggle);\n",
    "</script>\n",
    "Le code de ce notebook est caché pour faciliter la lecture. \n",
    "Pour afficher le code, cliquez <a href=\"javascript:code_toggle()\">ici</a>.''')"
   ]
  },
  {
   "cell_type": "markdown",
   "metadata": {},
   "source": [
    "# Intégrale de Riemann\n",
    "\n",
    "L'intégrale $\\int_a^b f(t) dt$ d'une fonction $f$ sur un intervalle $[a,b]$, c'est-à-dire l'aire sous la courbe de $f$, est définie à partir d'aires que l'ont sait facilement calculer: l'aire de rectangles.\n",
    "\n",
    "Pour ce faire, on subdivise $[a,b]$ en petits sous-intervalles, et on \"remplace\" $f$ par son maximum ou son minimum sur chaque petit intervalle. L'idée, c'est que plus les intervalles sont petits, plus ce tas de rectangles approche la courbe de $f$.\n",
    "\n",
    "Ici, on utilisera la subdivision régulière $\\sigma=(x_0, \\dots x_N)$, avec\n",
    "$$x_i = a + i \\frac{b-a}N$$\n",
    "et on pose, pour une fonction $f$,\n",
    "$$I^+(f, \\sigma)= \\sum_{i=0}^{n-1} \\sup_{[x_i,x_{i+1}]}f(x)(x_{i+1}-x_i)$$\n",
    "et \n",
    "$$I^-(f, \\sigma)= \\sum_{i=0}^{n-1} \\inf_{[x_i,x_{i+1}]}f(x)(x_{i+1}-x_i)$$\n",
    "Plus $N$ est grand, plus ces deux quantités sont proches. Voyons cela sur quelques exemples:"
   ]
  },
  {
   "cell_type": "markdown",
   "metadata": {},
   "source": [
    "## Exemple 1\n",
    "\n",
    "On commence par\n",
    "$f_1(x) = \\frac 1{1+x^2}$\n",
    "sur l'intervalle $[-2,2]$. "
   ]
  },
  {
   "cell_type": "code",
   "execution_count": 15,
   "metadata": {},
   "outputs": [
    {
     "data": {
      "application/vnd.jupyter.widget-view+json": {
       "model_id": "15b074ccb3df4b3abf9f84b92ecb15fd",
       "version_major": 2,
       "version_minor": 0
      },
      "text/plain": [
       "interactive(children=(IntSlider(value=55, description='N', min=10), Output()), _dom_classes=('widget-interact'…"
      ]
     },
     "metadata": {},
     "output_type": "display_data"
    },
    {
     "data": {
      "text/plain": [
       "<function __main__.update_plot(N)>"
      ]
     },
     "execution_count": 15,
     "metadata": {},
     "output_type": "execute_result"
    }
   ],
   "source": [
    "f1 = lambda x : 1/(1+x**2)\n",
    "a1 = -2\n",
    "b1 = 2\n",
    "\n",
    "n = 10 # Use n*N+1 points to plot the function smoothly\n",
    "\n",
    "\n",
    "def update_plot(N):\n",
    "    X = np.linspace(a1,b1,n*N+1)\n",
    "    Y = f1(X)\n",
    "\n",
    "    x = np.linspace(a1,b1,N+1)\n",
    "    y = f1(x)\n",
    "    \n",
    "    x_left = x[:-1] # Left endpoints\n",
    "    y_left = y[:-1]\n",
    "    \n",
    "    x_right = x[1:] # Right endpoints\n",
    "    y_right = y[1:]\n",
    "    \n",
    "    y_up=np.maximum(y_left, y_right)\n",
    "    high_riemann_sum = np.sum(y_up * (b1-a1)/N)\n",
    "    \n",
    "    y_down=np.minimum(y_left, y_right)\n",
    "    low_riemann_sum = np.sum(y_down*(b1-a1)/N)\n",
    "\n",
    "\n",
    "    plt.figure(figsize=(15,5))\n",
    "\n",
    "    plt.subplot(1,2,1)\n",
    "    plt.plot(X,Y,'b')\n",
    "    plt.plot(x_left,y_down,'.',markersize=1, color='xkcd:burnt orange')\n",
    "    plt.bar(x_left,y_down,width=(b1-a1)/N,alpha=0.2,align='edge',edgecolor='b')\n",
    "    plt.title(r'Approximation par en dessous de $\\int f_1(x) dx$,''\\n $I^-(f_1)$ = {}'.format(low_riemann_sum))\n",
    "\n",
    "\n",
    "    plt.subplot(1,2,2)\n",
    "    plt.plot(X,Y,'b')\n",
    "    plt.plot(x_left,y_up,'b.',markersize=3)\n",
    "    plt.bar(x_left,y_up,width=(b1-a1)/N,alpha=0.2,align='edge',edgecolor='b')\n",
    "    plt.title(r'Approximation par au-dessus de $\\int f_1(x) dx$,''\\n $I^+(f_1)$ = {}'.format(high_riemann_sum ))\n",
    "\n",
    "    plt.show()\n",
    "    \n",
    "    print('La différence entre les deux approximations est d={}'.format(high_riemann_sum-low_riemann_sum))\n",
    "    \n",
    "    \n",
    "    \n",
    "interact (update_plot, N=(10,100,1) )\n"
   ]
  },
  {
   "cell_type": "markdown",
   "metadata": {},
   "source": [
    "## Exemple 2\n",
    "\n",
    "On s'intéresse maintenant à $f_2(x)= \\sin(\\pi x)$, toujours sur $[-2,2]$:"
   ]
  },
  {
   "cell_type": "code",
   "execution_count": 16,
   "metadata": {},
   "outputs": [
    {
     "data": {
      "application/vnd.jupyter.widget-view+json": {
       "model_id": "0597b88ed15e476d96ceb747b7d6f1f1",
       "version_major": 2,
       "version_minor": 0
      },
      "text/plain": [
       "interactive(children=(IntSlider(value=55, description='N', min=10), Output()), _dom_classes=('widget-interact'…"
      ]
     },
     "metadata": {},
     "output_type": "display_data"
    },
    {
     "data": {
      "text/plain": [
       "<function __main__.update_plot(N)>"
      ]
     },
     "execution_count": 16,
     "metadata": {},
     "output_type": "execute_result"
    }
   ],
   "source": [
    "f2 = lambda x : np.sin(pi*x)\n",
    "a2 = -2\n",
    "b2 = 2\n",
    "\n",
    "n = 10 # Use n*N+1 points to plot the function smoothly\n",
    "\n",
    "\n",
    "def update_plot(N):\n",
    "    X = np.linspace(a2,b2,n*N+1)\n",
    "    Y = f2(X)\n",
    "\n",
    "    x = np.linspace(a2,b2,N+1)\n",
    "    y = f2(x)\n",
    "    \n",
    "    x_left = x[:-1] # Left endpoints\n",
    "    y_left = y[:-1]\n",
    "    \n",
    "    x_right = x[1:] # Right endpoints\n",
    "    y_right = y[1:]\n",
    "    \n",
    "    y_up=np.maximum(y_left, y_right)\n",
    "    high_riemann_sum = np.sum(y_up * (b2-a2)/N)\n",
    "    \n",
    "    y_down=np.minimum(y_left, y_right)\n",
    "    low_riemann_sum = np.sum(y_down*(b2-a2)/N)\n",
    "\n",
    "\n",
    "    plt.figure(figsize=(15,5))\n",
    "\n",
    "    plt.subplot(1,2,1)\n",
    "    plt.plot(X,Y,'b')\n",
    "    plt.plot(x_left,y_down,'.b',markersize=3)\n",
    "    plt.bar(x_left,y_down,width=(b2-a2)/N,alpha=0.2,align='edge',edgecolor='b')\n",
    "    plt.title(r'Approximation par en dessous de $\\int f_2(x) dx$,''\\n $I^-(f_2)$ = {}'.format(low_riemann_sum))\n",
    "\n",
    "\n",
    "    plt.subplot(1,2,2)\n",
    "    plt.plot(X,Y,'b')\n",
    "    plt.plot(x_left,y_up,'b.',markersize=3)\n",
    "    plt.bar(x_left,y_up,width=(b2-a2)/N,alpha=0.2,align='edge',edgecolor='b')\n",
    "    plt.title(r'Approximation par au-dessus de $\\int f_2(x) dx$,''\\n $I^+(f_2)$ = {}'.format(high_riemann_sum ))\n",
    "\n",
    "    plt.show()\n",
    "    print('La différence entre les deux approximations est d={}'.format(high_riemann_sum-low_riemann_sum))\n",
    "\n",
    "    \n",
    "    \n",
    "interact ( update_plot, N=(10,100,1) )\n"
   ]
  },
  {
   "cell_type": "markdown",
   "metadata": {},
   "source": [
    "## Exemple 3\n",
    "\n",
    "Enfin, on regarde la fonction définie par:\n",
    "    $$f_3(x)=\n",
    "    \\begin{cases}\n",
    "        2 \\text{ si } x <1 \\\\\n",
    "        6-2x \\text{ si } 1 \\leq x <3\\\\\n",
    "        1 \\text{ si } x\\geq 3\n",
    "    \\end{cases}\n",
    "    $$\n",
    "Quelle est la valeur exacte de son intégrale entre -4 et 4 ?"
   ]
  },
  {
   "cell_type": "code",
   "execution_count": 17,
   "metadata": {},
   "outputs": [
    {
     "data": {
      "application/vnd.jupyter.widget-view+json": {
       "model_id": "a77fa8a3fc854153b24874c57516e32e",
       "version_major": 2,
       "version_minor": 0
      },
      "text/plain": [
       "interactive(children=(IntSlider(value=55, description='N', min=10), Output()), _dom_classes=('widget-interact'…"
      ]
     },
     "metadata": {},
     "output_type": "display_data"
    },
    {
     "data": {
      "text/plain": [
       "<function __main__.update_plot(N)>"
      ]
     },
     "execution_count": 17,
     "metadata": {},
     "output_type": "execute_result"
    }
   ],
   "source": [
    "def f3(x):\n",
    "    x = np.atleast_1d(x)\n",
    "    f3 = np.zeros(len(x))\n",
    "    for i, x_i in enumerate(x):\n",
    "        if x_i<1:\n",
    "            f3[i] = 2\n",
    "        elif (1 <= x_i < 3):\n",
    "            f3[i] = 6-2*x_i\n",
    "        else:\n",
    "            f3[i] = 1\n",
    "    return f3\n",
    "\n",
    "a3 = -4\n",
    "b3 = 4\n",
    "\n",
    "n = 10 # Use n*N+1 points to plot the function smoothly\n",
    "\n",
    "\n",
    "def update_plot(N):\n",
    "    X = np.linspace(a3,b3,n*N+1)\n",
    "    Y = f3(X)\n",
    "\n",
    "    x = np.linspace(a3,b3,N+1)\n",
    "    y = f3(x)\n",
    "    \n",
    "    x_left = x[:-1] # Left endpoints\n",
    "    y_left = y[:-1]\n",
    "    \n",
    "    x_right = x[1:] # Right endpoints\n",
    "    y_right = y[1:]\n",
    "    \n",
    "    y_up=np.maximum(y_left, y_right)\n",
    "    high_riemann_sum = np.sum(y_up * (b3-a3)/N)\n",
    "    \n",
    "    y_down=np.minimum(y_left, y_right)\n",
    "    low_riemann_sum = np.sum(y_down*(b3-a3)/N)\n",
    "\n",
    "\n",
    "    plt.figure(figsize=(15,5))\n",
    "\n",
    "    plt.subplot(1,2,1)\n",
    "    plt.plot(X,Y,'b')\n",
    "    plt.plot(x_left,y_down,'b.',markersize=3)\n",
    "    plt.bar(x_left,y_down,width=(b3-a3)/N,alpha=0.2,align='edge',edgecolor='b')\n",
    "    plt.title(r'Approximation par en dessous de $\\int f_3(x) dx$,''\\n $I^-(f_3)$ = {}'.format(low_riemann_sum))\n",
    "\n",
    "\n",
    "    plt.subplot(1,2,2)\n",
    "    plt.plot(X,Y,'b')\n",
    "    plt.plot(x_left,y_up,'b.',markersize=3)\n",
    "    plt.bar(x_left,y_up,width=(b3-a3)/N,alpha=0.2,align='edge',edgecolor='b')\n",
    "    plt.title(r'Approximation par au-dessus de $\\int f_3(x) dx$,''\\n $I^+(f_3)$ = {}'.format(high_riemann_sum ))\n",
    "\n",
    "    plt.show()\n",
    "    print('La différence entre les deux approximations est d={}'.format(high_riemann_sum-low_riemann_sum))\n",
    "\n",
    "    \n",
    "    \n",
    "interact ( update_plot, N=(10,100,1) )"
   ]
  },
  {
   "cell_type": "markdown",
   "metadata": {},
   "source": [
    "N'hésitez pas à bidouiller le code pour essayer d'autres fonctions et d'autres intervalles !"
   ]
  },
  {
   "cell_type": "code",
   "execution_count": null,
   "metadata": {},
   "outputs": [],
   "source": []
  }
 ],
 "metadata": {
  "kernelspec": {
   "display_name": "Python 3",
   "language": "python",
   "name": "python3"
  },
  "language_info": {
   "codemirror_mode": {
    "name": "ipython",
    "version": 3
   },
   "file_extension": ".py",
   "mimetype": "text/x-python",
   "name": "python",
   "nbconvert_exporter": "python",
   "pygments_lexer": "ipython3",
   "version": "3.7.2"
  }
 },
 "nbformat": 4,
 "nbformat_minor": 2
}

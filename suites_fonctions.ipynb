{
 "cells": [
  {
   "cell_type": "code",
   "execution_count": 42,
   "metadata": {},
   "outputs": [],
   "source": [
    "from IPython.display import HTML\n",
    "from ipywidgets import interact\n",
    "%matplotlib inline"
   ]
  },
  {
   "cell_type": "code",
   "execution_count": 43,
   "metadata": {},
   "outputs": [
    {
     "data": {
      "text/html": [
       "<script>\n",
       "code_show=true; \n",
       "function code_toggle() {\n",
       " if (code_show){\n",
       " $('div.input').hide();\n",
       " } else {\n",
       " $('div.input').show();\n",
       " }\n",
       " code_show = !code_show\n",
       "} \n",
       "$( document ).ready(code_toggle);\n",
       "</script>\n",
       "Le code de ce notebook est caché pour faciliter la lecture. \n",
       "Pour afficher le code, cliquez <a href=\"javascript:code_toggle()\">ici</a>."
      ],
      "text/plain": [
       "<IPython.core.display.HTML object>"
      ]
     },
     "execution_count": 43,
     "metadata": {},
     "output_type": "execute_result"
    }
   ],
   "source": [
    "HTML('''<script>\n",
    "code_show=true; \n",
    "function code_toggle() {\n",
    " if (code_show){\n",
    " $('div.input').hide();\n",
    " } else {\n",
    " $('div.input').show();\n",
    " }\n",
    " code_show = !code_show\n",
    "} \n",
    "$( document ).ready(code_toggle);\n",
    "</script>\n",
    "Le code de ce notebook est caché pour faciliter la lecture. \n",
    "Pour afficher le code, cliquez <a href=\"javascript:code_toggle()\">ici</a>.''')"
   ]
  },
  {
   "cell_type": "markdown",
   "metadata": {},
   "source": [
    "# Suites de fonctions: Exemples et contre-exemples"
   ]
  },
  {
   "cell_type": "markdown",
   "metadata": {},
   "source": [
    "## Convergence simple: un exemple\n",
    "\n",
    "On considère la suite de fonctions $f_n$ définies sur $[0,1]$ par\n",
    "\n",
    "$$f_{n}(x) = x^n$$\n",
    "\n",
    "Cette suite converge *simplement* vers la fonction $f$ définie par\n",
    "$$f(x)\n",
    "\\begin{cases}\n",
    "1 \\text{ si } x =1 \\\\\n",
    "0 \\text{ sinon. }\n",
    "\\end{cases}\n",
    "$$\n",
    "\n",
    "Ci-dessous le graphe de $f_{n}$ pour différentes valeurs de $n$: \n"
   ]
  },
  {
   "cell_type": "code",
   "execution_count": 48,
   "metadata": {},
   "outputs": [
    {
     "data": {
      "application/vnd.jupyter.widget-view+json": {
       "model_id": "e82ca388604f4306886e260fe9e75a56",
       "version_major": 2,
       "version_minor": 0
      },
      "text/plain": [
       "interactive(children=(IntSlider(value=50, description='n', min=1), Output()), _dom_classes=('widget-interact',…"
      ]
     },
     "metadata": {},
     "output_type": "display_data"
    },
    {
     "data": {
      "text/plain": [
       "<function __main__.update_plot(n)>"
      ]
     },
     "execution_count": 48,
     "metadata": {},
     "output_type": "execute_result"
    }
   ],
   "source": [
    "from IPython.display import HTML\n",
    "from ipywidgets import interact\n",
    "%matplotlib inline\n",
    "\n",
    "import ipywidgets as widgets\n",
    "from IPython.display import display\n",
    "import numpy as np\n",
    "import matplotlib.pyplot as plt\n",
    "from math import pi\n",
    "\n",
    "from math import pi\n",
    "\n",
    "f1 = lambda x, n : x**n\n",
    "a1 = 0\n",
    "b1 = 1\n",
    "\n",
    "\n",
    "def f_lim(x):\n",
    "    x = np.atleast_1d(x)\n",
    "    f = np.zeros(len(x))\n",
    "    for i, x_i in enumerate(x):\n",
    "        if x_i==1:\n",
    "            f[i] = 1\n",
    "        else:\n",
    "            f[i] = 0\n",
    "    return f\n",
    "\n",
    "\n",
    "\n",
    "def update_plot(n):\n",
    "    X = np.hstack(( np.linspace(0,0.95,100), np.linspace(0.95,1,100) ))\n",
    "    fig, ax= plt.subplots(figsize=(15, 5))\n",
    "    ax.set_ylim([-0.1, 1.1])\n",
    "    ax.set_xlim([0, 1])\n",
    "    plt.plot(X,f1(X,n),color='xkcd:burnt orange')\n",
    "    plt.plot(X,f_lim(X),color='xkcd:cerulean')\n",
    "    \n",
    "\n",
    "    plt.title(r'Graphe de $f_n(x) = x^n$')\n",
    "    plt.show()\n",
    "    print('Le sup de fn-f est d={}'.format(max(f1(X,n)-f_lim(X))))\n",
    "\n",
    "\n",
    "\n",
    "interact ( update_plot, n=(1,100,1) )\n",
    "\n",
    "\n",
    "\n"
   ]
  },
  {
   "cell_type": "markdown",
   "metadata": {},
   "source": [
    "On observe que chaque point de la courbe de $f_n$ (en orange) se rapproche du point correspondant de la courbe de $f$: c'est la convergence simple. Cependant, le sup de $|f_n - f|$ ne diminue pas: il reste égal à 1 (même si les erreurs machines peuvent donner l'impression contraire): en effet, pour tout $k \\in \\mathbb N$,\n",
    "\n",
    "$$\n",
    "f_{n}\\left(1-\\frac 1k\\right)= \\left(1-\\frac 1k\\right)^n \\text{ et }  f\\left(1-\\frac 1k\\right) =0\n",
    "$$\n",
    "\n",
    "donc \n",
    "$$\n",
    "\\sup_{[0,1]}|f_n(x) - f(x)|\\geq f_{n}\\left(1-\\frac 1k\\right) -  f\\left(1-\\frac 1k\\right) = \\left(1-\\frac 1k\\right)^n\n",
    "$$\n",
    "\n",
    "Ceci étant vrai pour tout $k$, on peut prendre la limite quand $k \\rightarrow \\infty$, et on obtient\n",
    "\n",
    "$$\n",
    "\\sup_{[0,1]}|f_n(x) - f(x)|\\geq \\lim_{k\\rightarrow \\infty} \\left(1-\\frac 1k\\right)^n = 1.\n",
    "$$\n",
    "\n",
    "La convergence n'est donc pas uniforme."
   ]
  },
  {
   "cell_type": "markdown",
   "metadata": {},
   "source": [
    "## Convergence simple: un autre exemple\n",
    "On considère la suite de fonctions $f_n$ définies sur $[0,1]$ par\n",
    "\n",
    "$$f_{n}(x) = \n",
    "\\begin{cases}\n",
    "\\frac1x \\text{ si } |x| \\geq \\frac 1n \\\\\n",
    "n^2 x \\text { si } |x| < \\frac 1n\n",
    "\\end{cases}\n",
    "$$\n",
    "\n",
    "Cette suite converge *simplement* vers la fonction $f$ définie par\n",
    "$$f(x)\n",
    "\\begin{cases}\n",
    "\\frac1x \\text{ si } x \\neq 0 \\\\\n",
    "0 \\text{ si } x=0\n",
    "\\end{cases}\n",
    "$$\n",
    "\n",
    "Ci-dessous le graphe de $f_{n}$ pour différentes valeurs de $n$ (en orange), et celui de $f$ (en bleu): "
   ]
  },
  {
   "cell_type": "code",
   "execution_count": 45,
   "metadata": {},
   "outputs": [
    {
     "data": {
      "application/vnd.jupyter.widget-view+json": {
       "model_id": "bbcdd4259a4540388039ff16847763f9",
       "version_major": 2,
       "version_minor": 0
      },
      "text/plain": [
       "interactive(children=(IntSlider(value=10, description='n', max=20, min=1), Output()), _dom_classes=('widget-in…"
      ]
     },
     "metadata": {},
     "output_type": "display_data"
    },
    {
     "data": {
      "text/plain": [
       "<function __main__.update_plot(n)>"
      ]
     },
     "execution_count": 45,
     "metadata": {},
     "output_type": "execute_result"
    }
   ],
   "source": [
    "from IPython.display import HTML\n",
    "from ipywidgets import interact\n",
    "%matplotlib inline\n",
    "\n",
    "import ipywidgets as widgets\n",
    "from IPython.display import display\n",
    "import numpy as np\n",
    "import matplotlib.pyplot as plt\n",
    "from math import pi\n",
    "\n",
    "from math import pi\n",
    "\n",
    "a1 = -3\n",
    "b1 = 3\n",
    "\n",
    "\n",
    "def f2(x,n):\n",
    "    x = np.atleast_1d(x)\n",
    "    f = np.zeros(len(x))\n",
    "    for i, x_i in enumerate(x):\n",
    "        if x_i<-1/n:\n",
    "            f[i] = 1/x_i\n",
    "        elif x_i>1/n:\n",
    "            f[i] = 1/x_i\n",
    "        else:\n",
    "            f[i]=(n**2)*x_i\n",
    "    return f\n",
    "\n",
    "def f2_lim(x):\n",
    "    x = np.atleast_1d(x)\n",
    "    f = np.zeros(len(x))\n",
    "    for i, x_i in enumerate(x):\n",
    "        if abs(x_i)==0:\n",
    "            f[i] = 0\n",
    "        else:\n",
    "            f[i]=1/x_i\n",
    "    return f\n",
    "\n",
    "\n",
    "def update_plot(n):\n",
    "    X = np.linspace(-3,3,500)\n",
    "    fig, ax= plt.subplots(figsize=(15, 5))\n",
    "    ax.set_ylim([-10, 11])\n",
    "    ax.set_xlim([-3, 3])\n",
    "    \n",
    "    plt.plot(X,f2_lim(X),color='xkcd:cerulean', alpha=0.7)\n",
    "    plt.plot(X,f2(X,n),color='xkcd:burnt orange')\n",
    "\n",
    "    plt.title(r'Graphe de $f_n(x)$')\n",
    "    plt.show()\n",
    "    print('Le sup de fn-f est d={}'.format(max(f2(X,n)-f2_lim(X))))\n",
    "\n",
    "\n",
    "\n",
    "interact ( update_plot, n=(1,20,1) )\n",
    "\n",
    "\n",
    "\n"
   ]
  },
  {
   "cell_type": "markdown",
   "metadata": {},
   "source": [
    "A nouveau, on observe que, pour tout $x \\in \\mathbb R$, $f_n(x)$ se rapproche de $f(x)$ quand $n\\rightarrow \\infty$. On montre par le calcul que c'est bien le cas. Cependant, la convergence n'est pas uniforme: on vérifie facilement que $f_n$ est continue sur $\\mathbb R$ pour tout $n \\in \\mathbb N^*$, mais la fonction limite $f$ n'est pas continue en 0. \n",
    "\n"
   ]
  },
  {
   "cell_type": "markdown",
   "metadata": {},
   "source": [
    "## Convergence uniforme: un premier exemple\n",
    "On considère maintenant la suite de fonctions $g_n$ définies sur $\\mathbb R^+$ par \n",
    "\n",
    "$$g_{n}(x) = x^2 \\exp(-nx)\n",
    "$$\n",
    "\n",
    "Cette suite converge *uniformément* vers la fonction nulle.\n",
    "\n",
    "Ci-dessous le graphe de $g_{n}$ pour différentes valeurs de $n$ (en bleu): non seulement chaque point de la courbe de $g_n$ se rapproche de l'axe des abcisses, mais en plus, la fonction $g_n$ en entier est \"coincée\" dans un tube de plus en plus étroit autour de 0. Autrement dit, le sup de $g_n$ sur $\\mathbb R^+$ tend aussi vers 0: c'est la convergence uniforme.  "
   ]
  },
  {
   "cell_type": "code",
   "execution_count": 46,
   "metadata": {},
   "outputs": [
    {
     "data": {
      "application/vnd.jupyter.widget-view+json": {
       "model_id": "68f30a9ea5d44b299139629b194a8510",
       "version_major": 2,
       "version_minor": 0
      },
      "text/plain": [
       "interactive(children=(IntSlider(value=10, description='n', max=20, min=1), Output()), _dom_classes=('widget-in…"
      ]
     },
     "metadata": {},
     "output_type": "display_data"
    },
    {
     "data": {
      "text/plain": [
       "<function __main__.update_plot(n)>"
      ]
     },
     "execution_count": 46,
     "metadata": {},
     "output_type": "execute_result"
    }
   ],
   "source": [
    "from IPython.display import HTML\n",
    "from ipywidgets import interact\n",
    "%matplotlib inline\n",
    "\n",
    "import ipywidgets as widgets\n",
    "from IPython.display import display\n",
    "import numpy as np\n",
    "import matplotlib.pyplot as plt\n",
    "from math import pi\n",
    "\n",
    "from math import pi\n",
    "\n",
    "\n",
    "f3 = lambda x, n : (x**2)*np.exp(-n*x)\n",
    "\n",
    "\n",
    "\n",
    "\n",
    "def update_plot(n):\n",
    "    X = np.linspace(0,1,500)\n",
    "    fig, ax= plt.subplots(figsize=(15, 5))\n",
    "    ax.set_ylim([-0.00001, 0.01])\n",
    "    ax.set_xlim([0, 1])\n",
    "    \n",
    "    plt.plot(X,f3(X,n),color='xkcd:cerulean', alpha=1)\n",
    "    plt.hlines([0,4*np.exp(-2)/n**2], 0, 10, color='xkcd:burnt orange', linestyles='solid')\n",
    "    ax.fill_between(X,0, 4*np.exp(-2)/n**2,  color='xkcd:burnt orange', alpha=0.3)\n",
    "\n",
    "    plt.title(r'Graphe de $g_n(x) = x^2 \\exp(-nx)$')\n",
    "    plt.show()\n",
    "    print('Le sup de |gn| est d={}'.format(max(f3(X,n))))\n",
    "\n",
    "\n",
    "\n",
    "interact ( update_plot, n=(1,20,1) )\n",
    "\n",
    "\n",
    "\n"
   ]
  },
  {
   "cell_type": "markdown",
   "metadata": {},
   "source": [
    "## Convergence uniforme: un deuxième exemple\n",
    "On considère maintenant la suite de fonctions $h_n$ définies sur $\\mathbb R^+$ par \n",
    "\n",
    "$$h_{n}(x) = \\frac{x}{x^2+n}\n",
    "$$\n",
    "\n",
    "Cette suite converge *uniformément* vers la fonction nulle.\n",
    "\n",
    "Ci-dessous le graphe de $h_{n}$ pour différentes valeurs de $n$ (en bleu): à nouveau, toute la fonction $h_n$ est \"coincée\" dans un tube de plus en plus étroit autour de 0, ce qui signifie que le sup de $h_n$ sur $\\mathbb R^+$ tend aussi vers 0: c'est la convergence uniforme.  "
   ]
  },
  {
   "cell_type": "code",
   "execution_count": 47,
   "metadata": {},
   "outputs": [
    {
     "data": {
      "application/vnd.jupyter.widget-view+json": {
       "model_id": "27bf5160d4f841dab53fe84c26db06e6",
       "version_major": 2,
       "version_minor": 0
      },
      "text/plain": [
       "interactive(children=(IntSlider(value=25, description='n', max=50, min=1), Output()), _dom_classes=('widget-in…"
      ]
     },
     "metadata": {},
     "output_type": "display_data"
    },
    {
     "data": {
      "text/plain": [
       "<function __main__.update_plot(n)>"
      ]
     },
     "execution_count": 47,
     "metadata": {},
     "output_type": "execute_result"
    }
   ],
   "source": [
    "from IPython.display import HTML\n",
    "from ipywidgets import interact\n",
    "%matplotlib inline\n",
    "\n",
    "import ipywidgets as widgets\n",
    "from IPython.display import display\n",
    "import numpy as np\n",
    "import matplotlib.pyplot as plt\n",
    "from math import pi\n",
    "\n",
    "from math import pi\n",
    "\n",
    "\n",
    "f4 = lambda x, n : x/(x**2+n)\n",
    "\n",
    "\n",
    "\n",
    "\n",
    "def update_plot(n):\n",
    "    X = np.linspace(0,20,500)\n",
    "    fig, ax= plt.subplots(figsize=(15, 5))\n",
    "    ax.set_ylim([-0.00001, 0.5])\n",
    "    ax.set_xlim([0, 20])\n",
    "    \n",
    "    plt.plot(X,f4(X,n),color='xkcd:cerulean', alpha=1)\n",
    "    plt.hlines([0,1/(2*np.sqrt(n))], 0, 20, color='xkcd:burnt orange', linestyles='solid')\n",
    "    ax.fill_between(X,0, 1/(2*np.sqrt(n)),  color='xkcd:burnt orange', alpha=0.3)\n",
    "\n",
    "    plt.title(r'Graphe de $h_n(x) = \\frac{x}{x^2+n}$')\n",
    "    plt.show()\n",
    "    print('Le sup de |hn| est d={}'.format(max(f4(X,n))))\n",
    "\n",
    "\n",
    "\n",
    "interact ( update_plot, n=(1,50,1) )\n",
    "\n",
    "\n",
    "\n"
   ]
  },
  {
   "cell_type": "markdown",
   "metadata": {},
   "source": [
    "## Convergence uniforme sur $[-1,1]$ mais pas sur $\\mathbb R$\n",
    "\n",
    "On considère maintenant la suite de fonctions $f_n$ définies sur $\\mathbb R$ par \n",
    "\n",
    "$$f_{n}(x) = n\\sin\\left(\\frac xn \\right) \n",
    "$$\n",
    "\n",
    "A l'aide d'un développement limité, on observe que cette suite de fonctions converge simplement vers $f(x) = x$ sur $\\mathbb R$.\n",
    "\n",
    "On montre que la convergence est uniforme sur tout intervalle borné $[-a,a]$, mais ne l'est pas sur $\\mathbb R$: la raison en est que, pour tout $a$, sur $[-a,a]$, on peut coincer $f_n(x)$ dans un couloir autour de $f(x)$, qui s'étrécit quand $n$ augmente. Mais ce \"couloir\" est d'autant plus large que $a$ est grand. C'est ce qui est illustré ci-dessous:\n"
   ]
  },
  {
   "cell_type": "code",
   "execution_count": 73,
   "metadata": {},
   "outputs": [
    {
     "data": {
      "application/vnd.jupyter.widget-view+json": {
       "model_id": "f860c7076d05444eb40232df7fa71f14",
       "version_major": 2,
       "version_minor": 0
      },
      "text/plain": [
       "interactive(children=(IntSlider(value=25, description='n', max=50, min=1), IntSlider(value=10, description='a'…"
      ]
     },
     "metadata": {},
     "output_type": "display_data"
    },
    {
     "data": {
      "text/plain": [
       "<function __main__.update_plot(n, a)>"
      ]
     },
     "execution_count": 73,
     "metadata": {},
     "output_type": "execute_result"
    }
   ],
   "source": [
    "from IPython.display import HTML\n",
    "from ipywidgets import interact\n",
    "%matplotlib inline\n",
    "\n",
    "import ipywidgets as widgets\n",
    "from IPython.display import display\n",
    "import numpy as np\n",
    "import matplotlib.pyplot as plt\n",
    "from math import pi\n",
    "\n",
    "from math import pi\n",
    "\n",
    "f5 = lambda x, n : n*np.sin(x/n)\n",
    "\n",
    "aplus = lambda x,m: x+m\n",
    "\n",
    "amoins = lambda x,m: x-m\n",
    "\n",
    "\n",
    "\n",
    "\n",
    "def update_plot(n,a):\n",
    "    X = np.linspace(-a,a,50*a)\n",
    "    fig, ax= plt.subplots(figsize=(15, 5))\n",
    "    ax.set_ylim([-a, a])\n",
    "    ax.set_xlim([-a, a])\n",
    "    \n",
    "    plt.plot(X,X,color='xkcd:cerulean', alpha=0.7)\n",
    "    plt.plot(X,f5(X,n),color='xkcd:burnt orange')\n",
    "    ax.fill_between(X,amoins(X,max(f5(X,n)-X)), aplus(X,max(f5(X,n)-X)),  color='xkcd:burnt orange', alpha=0.3)\n",
    "\n",
    "    plt.title(r'Graphe de $f_n(x) = n\\sin(\\frac{x}{n})$')\n",
    "    plt.show()\n",
    "    print('Le sup de fn-f sur [-{},{}] est d={}'.format(a,a,max(f5(X,n)-X)))\n",
    "\n",
    "\n",
    "\n",
    "interact ( update_plot, n=(1,50,1), a=(1,20,1))\n",
    "\n",
    "\n",
    "\n"
   ]
  },
  {
   "cell_type": "markdown",
   "metadata": {},
   "source": [
    "## Convergence uniforme et intégrale \n",
    "\n",
    "On s'intéresse à la suite de fonctions $f_n$ définies sur $\\mathbb R$ par \n",
    "\n",
    "$$f_{n}(x) = \\frac1{n} \\mathbb1_{[n,2n]} \n",
    "$$\n",
    "\n",
    "Chaque $f_n$ est donc une fonction \"créneau\", de plus en plus large et plat, qui se déplace vers la droite sur l'axe des réels quand $n$ augmente. L'intégrale de $f_n$ sur $\\mathbb R$ est donc l'air d'un rectangle de hauteur $\\frac 1{n}$ et de largeur $2n - n = n$: elle vaut donc 1 pour tout $n$.\n",
    "\n",
    "Par ailleurs, le sup de $f_n$ sur $\\mathbb R$ est $\\frac 1{n}$: elle converge donc uniformément vers la fonction nulle sur $\\mathbb R$.\n",
    "\n",
    "Ainsi, la convergence uniforme n'entraîne pas que l'intégrale de $f_n$ sur $\\mathbb R$ converge vers l'intégrale de la fonction nulle ! Ce n'est vrai que pour les intervalles bornés\n",
    "\n"
   ]
  },
  {
   "cell_type": "code",
   "execution_count": 72,
   "metadata": {},
   "outputs": [
    {
     "data": {
      "application/vnd.jupyter.widget-view+json": {
       "model_id": "d6f0e6124bc04353ae190a2da7a1adc6",
       "version_major": 2,
       "version_minor": 0
      },
      "text/plain": [
       "interactive(children=(IntSlider(value=26, description='n', max=50, min=3), Output()), _dom_classes=('widget-in…"
      ]
     },
     "metadata": {},
     "output_type": "display_data"
    },
    {
     "data": {
      "text/plain": [
       "<function __main__.update_plot(n)>"
      ]
     },
     "execution_count": 72,
     "metadata": {},
     "output_type": "execute_result"
    }
   ],
   "source": [
    "from IPython.display import HTML\n",
    "from ipywidgets import interact\n",
    "%matplotlib inline\n",
    "\n",
    "import ipywidgets as widgets\n",
    "from IPython.display import display\n",
    "import numpy as np\n",
    "import matplotlib.pyplot as plt\n",
    "from math import pi\n",
    "\n",
    "from math import pi\n",
    "\n",
    "def f6(x,n):\n",
    "    x = np.atleast_1d(x)\n",
    "    f = np.zeros(len(x))\n",
    "    for i, x_i in enumerate(x):\n",
    "        if n<x_i<2*n:\n",
    "            f[i] = 1/n\n",
    "        else:\n",
    "            f[i]=0\n",
    "    return f\n",
    "\n",
    "\n",
    "\n",
    "\n",
    "def update_plot(n):\n",
    "    X = np.linspace(0,2*n+3,500)\n",
    "    fig, ax= plt.subplots(figsize=(15, 5))\n",
    "    ax.set_xlim([0, 2*n+3])\n",
    "    ax.set_ylim([-0.01, 0.5])\n",
    "    \n",
    "    #plt.plot(X,X,color='xkcd:cerulean', alpha=0.7)\n",
    "    plt.plot(X,f6(X,n),color='xkcd:burnt orange')\n",
    "    ax.fill_between(X,0,f6(X,n), color='xkcd:burnt orange', alpha=0.3)\n",
    "\n",
    "    plt.title(r'Graphe de $f_n(x) = \\frac{1}{n} \\mathbb{1}_{[n,2n]}$')\n",
    "    plt.show()\n",
    "\n",
    "\n",
    "\n",
    "interact ( update_plot, n=(3,50,1))\n",
    "\n",
    "\n",
    "\n"
   ]
  }
 ],
 "metadata": {
  "kernelspec": {
   "display_name": "Python 3",
   "language": "python",
   "name": "python3"
  },
  "language_info": {
   "codemirror_mode": {
    "name": "ipython",
    "version": 3
   },
   "file_extension": ".py",
   "mimetype": "text/x-python",
   "name": "python",
   "nbconvert_exporter": "python",
   "pygments_lexer": "ipython3",
   "version": "3.7.2"
  }
 },
 "nbformat": 4,
 "nbformat_minor": 2
}

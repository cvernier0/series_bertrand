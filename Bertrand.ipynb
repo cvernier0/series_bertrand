{
 "cells": [
  {
   "cell_type": "code",
   "execution_count": 1,
   "metadata": {},
   "outputs": [],
   "source": [
    "from IPython.display import HTML\n",
    "from ipywidgets import interact\n",
    "%matplotlib inline\n"
   ]
  },
  {
   "cell_type": "code",
   "execution_count": 10,
   "metadata": {},
   "outputs": [
    {
     "data": {
      "text/html": [
       "<script>\n",
       "code_show=true; \n",
       "function code_toggle() {\n",
       " if (code_show){\n",
       " $('div.input').hide();\n",
       " } else {\n",
       " $('div.input').show();\n",
       " }\n",
       " code_show = !code_show\n",
       "} \n",
       "$( document ).ready(code_toggle);\n",
       "</script>\n",
       "Le code de ce notebook est caché pour faciliter la lecture. \n",
       "Pour afficher le code, cliquez <a href=\"javascript:code_toggle()\">ici</a>."
      ],
      "text/plain": [
       "<IPython.core.display.HTML object>"
      ]
     },
     "execution_count": 10,
     "metadata": {},
     "output_type": "execute_result"
    }
   ],
   "source": [
    "HTML('''<script>\n",
    "code_show=true; \n",
    "function code_toggle() {\n",
    " if (code_show){\n",
    " $('div.input').hide();\n",
    " } else {\n",
    " $('div.input').show();\n",
    " }\n",
    " code_show = !code_show\n",
    "} \n",
    "$( document ).ready(code_toggle);\n",
    "</script>\n",
    "Le code de ce notebook est caché pour faciliter la lecture. \n",
    "Pour afficher le code, cliquez <a href=\"javascript:code_toggle()\">ici</a>.''')"
   ]
  },
  {
   "cell_type": "code",
   "execution_count": null,
   "metadata": {},
   "outputs": [],
   "source": [
    "%%html\n",
    "<script>\n",
    "    // AUTORUN ALL CELLS ON NOTEBOOK-LOAD!\n",
    "    require(\n",
    "        ['base/js/namespace', 'jquery'], \n",
    "        function(jupyter, $) {\n",
    "            $(jupyter.events).on(\"kernel_ready.Kernel\", function () {\n",
    "                console.log(\"Auto-running all cells-below...\");\n",
    "                jupyter.actions.call('jupyter-notebook:run-all-cells-below');\n",
    "                jupyter.actions.call('jupyter-notebook:save-notebook');\n",
    "            });\n",
    "        }\n",
    "    );\n",
    "</script>"
   ]
  },
  {
   "cell_type": "markdown",
   "metadata": {},
   "source": [
    "# Séries de Bertrand\n",
    "\n",
    "On s'intéresse ici à des séries dont le terme général est de la forme\n",
    "$$u_n=\\frac{1}{n^a \\ln(n)^b}$$\n",
    "\n",
    "*Remarque:* Lorsque $b=0$, on est ramenés à l'étude des séries de Riemann"
   ]
  },
  {
   "cell_type": "code",
   "execution_count": 11,
   "metadata": {},
   "outputs": [
    {
     "data": {
      "application/vnd.jupyter.widget-view+json": {
       "model_id": "1a66c430e0ee4cdba1094271e7d7bbae",
       "version_major": 2,
       "version_minor": 0
      },
      "text/plain": [
       "interactive(children=(FloatSlider(value=1.0, description='a', max=2.0, step=0.01), FloatSlider(value=0.0, desc…"
      ]
     },
     "metadata": {},
     "output_type": "display_data"
    },
    {
     "data": {
      "text/plain": [
       "<function __main__.update_plot(a, b)>"
      ]
     },
     "execution_count": 11,
     "metadata": {},
     "output_type": "execute_result"
    }
   ],
   "source": [
    "import ipywidgets as widgets\n",
    "from IPython.display import display\n",
    "import numpy as np\n",
    "import matplotlib.pyplot as plt\n",
    "from math import pi\n",
    "\n",
    "\n",
    "\n",
    "x = np.linspace(2, 20, 20)\n",
    "\n",
    "#fig,ax = plt.subplots(1,figsize=(6,6))\n",
    "\n",
    "\n",
    "\n",
    "def update_plot(a,b):\n",
    "    y=(x**(-a))*(np.log(x)**(-b))\n",
    "    z=np.cumsum(y)\n",
    "    fig = plt.figure(figsize=(15, 5))\n",
    "    ax=fig.gca()\n",
    "    ax.clear()\n",
    "    plt.subplot(1,2,1)\n",
    "    plt.xlim(1.1, 20)\n",
    "    plt.ylim(min(y), max(y))\n",
    "    plt.plot(x, y, '.r')\n",
    "    plt.title(r'Suite $\\ u_n = \\frac{1}{n^a \\ln(n)^b}$ ')\n",
    "    plt.subplot(1,2,2)\n",
    "    plt.xlim(1.1, 20)\n",
    "    plt.ylim(min(z), max(z))\n",
    "    plt.plot(x,z,'.b')\n",
    "    plt.title(\"Série $\\ \\Sigma u_n$\")\n",
    "    plt.show()\n",
    "\n",
    "\n",
    "\n",
    "interact ( update_plot, a = (0,2,0.01),  b = (-10,10,0.5) )\n",
    "\n",
    "#p=widgets.FloatSlider(min=p_min, max=p_max,value=p_init,description=\"p\")\n",
    "\n",
    "\n",
    "#widgets.interactive(update_plot, p=p)"
   ]
  },
  {
   "cell_type": "code",
   "execution_count": null,
   "metadata": {},
   "outputs": [],
   "source": []
  }
 ],
 "metadata": {
  "kernelspec": {
   "display_name": "Python 3",
   "language": "python",
   "name": "python3"
  },
  "language_info": {
   "codemirror_mode": {
    "name": "ipython",
    "version": 3
   },
   "file_extension": ".py",
   "mimetype": "text/x-python",
   "name": "python",
   "nbconvert_exporter": "python",
   "pygments_lexer": "ipython3",
   "version": "3.7.2"
  }
 },
 "nbformat": 4,
 "nbformat_minor": 2
}
